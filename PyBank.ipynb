{
 "cells": [
  {
   "cell_type": "code",
   "execution_count": 5,
   "id": "5598968e-703b-4381-8141-46829d83be3e",
   "metadata": {
    "tags": []
   },
   "outputs": [],
   "source": [
    "#importing csv and pandas library, loading csv file in data variable\n",
    "import  csv\n",
    "import pandas as pd"
   ]
  },
  {
   "cell_type": "code",
   "execution_count": 8,
   "id": "99929521-ce80-4a21-8000-a7ccbac362cb",
   "metadata": {
    "tags": []
   },
   "outputs": [],
   "source": [
    "data = pd.read_csv(\"./Resources/budget_data.csv\")"
   ]
  },
  {
   "cell_type": "code",
   "execution_count": 18,
   "id": "be59e1ca-c45d-4a18-9f92-344e0e3828d1",
   "metadata": {
    "tags": []
   },
   "outputs": [
    {
     "data": {
      "text/plain": [
       "86"
      ]
     },
     "execution_count": 18,
     "metadata": {},
     "output_type": "execute_result"
    }
   ],
   "source": [
    "# returns a full count of each iteration of the refrenced column\n",
    "num_of_months = data[\"Date\"].count()\n",
    "num_of_months"
   ]
  },
  {
   "cell_type": "code",
   "execution_count": 19,
   "id": "e9f0ec65-62cb-45e3-a3f5-9bf849a11055",
   "metadata": {
    "tags": []
   },
   "outputs": [
    {
     "data": {
      "text/plain": [
       "38382578"
      ]
     },
     "execution_count": 19,
     "metadata": {},
     "output_type": "execute_result"
    }
   ],
   "source": [
    "#.sum adds all value under refrenced column\n",
    "net_total = data[\"Profit/Losses\"].sum()\n",
    "net_total"
   ]
  },
  {
   "cell_type": "code",
   "execution_count": 20,
   "id": "46eee23d-12c7-4977-9249-a3b90770b652",
   "metadata": {
    "tags": []
   },
   "outputs": [
    {
     "data": {
      "text/plain": [
       "446309.0465116279"
      ]
     },
     "execution_count": 20,
     "metadata": {},
     "output_type": "execute_result"
    }
   ],
   "source": [
    "#.median will avergae out the numbers under refrenced column and return the value\n",
    "average_p_l = data[\"Profit/Losses\"].mean()\n",
    "average_p_l"
   ]
  },
  {
   "cell_type": "code",
   "execution_count": 25,
   "id": "1d455d8a-9108-432a-83ca-cef932df2560",
   "metadata": {
    "tags": []
   },
   "outputs": [],
   "source": [
    "#.min and .max will give the numeral form of the lowest and highest values\n",
    "greatest_profit = data[\"Profit/Losses\"].max()\n",
    "greatest_loss = data[\"Profit/Losses\"].min()"
   ]
  },
  {
   "cell_type": "code",
   "execution_count": 26,
   "id": "9c1686c9-536a-45d2-8c53-2b56f1931799",
   "metadata": {
    "tags": []
   },
   "outputs": [],
   "source": [
    "#.idmax() will refrence the index at which the max value is given, idmin() will refrence the index at which the min value is given \n",
    "max_profit = data['Profit/Losses'].idxmax()\n",
    "max_loss = data['Profit/Losses'].idxmin()"
   ]
  },
  {
   "cell_type": "code",
   "execution_count": 27,
   "id": "cd64190e-961a-4f7f-942c-08b83528c898",
   "metadata": {
    "tags": []
   },
   "outputs": [],
   "source": [
    "#verification of the data\n",
    "#print(data.iloc[[25]])\n",
    "#print(data.iloc[[44]])\n",
    "date_max_rev = data.iloc[25,0]\n",
    "value_max_rev = data.iloc[25,1]\n",
    "date_min_rev = data.iloc[44,0]\n",
    "value_min_rev = data.iloc[44,1]"
   ]
  },
  {
   "cell_type": "code",
   "execution_count": 28,
   "id": "e3777448-55fa-4f3a-a168-e385c368bcf0",
   "metadata": {
    "tags": []
   },
   "outputs": [],
   "source": [
    "f = open('FinancialAnalysis.txt', 'w')\n",
    "print(\"Financial Analysis\", file = f)\n",
    "print(\"---------------------\", file = f)\n",
    "print(\"Total Months: \" + str(num_of_months), file = f)\n",
    "print(\"Net Profit: \" + str(net_total), file = f)\n",
    "print(\"Average monthly Revenue: \" + str(average_p_l), file = f)\n",
    "print(f\"Highest earnings: {date_max_rev}, ({value_max_rev})\", file = f)\n",
    "print(f\"Lowest earnings: {date_min_rev}, ({value_min_rev}) \", file = f)"
   ]
  }
 ],
 "metadata": {
  "kernelspec": {
   "display_name": "Python 3 (ipykernel)",
   "language": "python",
   "name": "python3"
  },
  "language_info": {
   "codemirror_mode": {
    "name": "ipython",
    "version": 3
   },
   "file_extension": ".py",
   "mimetype": "text/x-python",
   "name": "python",
   "nbconvert_exporter": "python",
   "pygments_lexer": "ipython3",
   "version": "3.11.4"
  }
 },
 "nbformat": 4,
 "nbformat_minor": 5
}
